{
 "cells": [
  {
   "cell_type": "markdown",
   "metadata": {
    "pycharm": {
     "name": "#%% md\n"
    }
   },
   "source": [
    "# Client to split datasets\n",
    "This notebook demonstrates how to generate message lists from text files. These message lists serve as basis for data generation."
   ]
  },
  {
   "cell_type": "code",
   "execution_count": null,
   "metadata": {
    "pycharm": {
     "name": "#%%\n"
    }
   },
   "outputs": [],
   "source": [
    "import os\n",
    "import sys\n",
    "sys.path.append('src')\n",
    "from src.data_utils import *\n",
    "import pandas as pd\n",
    "import src.alphabet as alph"
   ]
  },
  {
   "cell_type": "markdown",
   "metadata": {
    "pycharm": {
     "name": "#%%\n"
    }
   },
   "source": [
    "## Load and split alice data"
   ]
  },
  {
   "cell_type": "code",
   "execution_count": null,
   "metadata": {},
   "outputs": [],
   "source": [
    "# Load text\n",
    "data_id = 'alice'\n",
    "alphabet = alph.ascii()\n",
    "msgs = load_msgs(data_id, alphabet, 10, 100)"
   ]
  },
  {
   "cell_type": "code",
   "execution_count": null,
   "metadata": {},
   "outputs": [],
   "source": [
    "# Split data into test and train\n",
    "df_alice = pd.DataFrame({'Txt': msgs})\n",
    "df_alice_train, df_alice_test = split_df(df_alice, 0.2)"
   ]
  },
  {
   "cell_type": "code",
   "execution_count": null,
   "metadata": {},
   "outputs": [],
   "source": [
    "# Dump data. Can be accessed by it's data_ID\n",
    "dump_df(df_alice_train, 'data/alice_train_10-100.pkl') # data_ID: alice-train\n",
    "dump_df(df_alice_test, 'data/alice_test_10-100.pkl') # ..."
   ]
  },
  {
   "cell_type": "markdown",
   "metadata": {},
   "source": [
    "# Prepare bible data"
   ]
  },
  {
   "cell_type": "code",
   "execution_count": null,
   "metadata": {},
   "outputs": [],
   "source": [
    "# Load text\n",
    "data_id = 'bible'\n",
    "alphabet = alph.ascii()\n",
    "msgs = load_msgs(data_id, alphabet, 10, 100)"
   ]
  },
  {
   "cell_type": "code",
   "execution_count": null,
   "metadata": {},
   "outputs": [],
   "source": [
    "# Split data into train and test\n",
    "df_bible = pd.DataFrame({'Txt': msgs})\n",
    "df_bible_train, df_bible_test = split_df(df_bible, 0.2)"
   ]
  },
  {
   "cell_type": "code",
   "execution_count": null,
   "metadata": {},
   "outputs": [],
   "source": [
    "# Dump data. Can be accessed by it's data_ID\n",
    "dump_df(df_bible_train, 'data/bible_train_10-100.pkl') # data_ID: bible-train\n",
    "dump_df(df_bible_test, 'data/bible_test_10-100.pkl') # ..."
   ]
  },
  {
   "cell_type": "code",
   "execution_count": null,
   "metadata": {},
   "outputs": [],
   "source": []
  }
 ],
 "metadata": {
  "kernelspec": {
   "display_name": "Python (spring21JodokVieli)",
   "language": "python",
   "name": "spring21jodokvieli"
  },
  "language_info": {
   "codemirror_mode": {
    "name": "ipython",
    "version": 3
   },
   "file_extension": ".py",
   "mimetype": "text/x-python",
   "name": "python",
   "nbconvert_exporter": "python",
   "pygments_lexer": "ipython3",
   "version": "3.8.0"
  }
 },
 "nbformat": 4,
 "nbformat_minor": 4
}
