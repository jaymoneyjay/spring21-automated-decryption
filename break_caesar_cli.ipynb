{
 "cells": [
  {
   "cell_type": "markdown",
   "metadata": {},
   "source": [
    "# Break caesar cipher\n",
    "This notebook demonstrates how to recover keys form messages encrypted under the caesar cipher"
   ]
  },
  {
   "cell_type": "code",
   "execution_count": null,
   "metadata": {},
   "outputs": [],
   "source": [
    "import sys\n",
    "sys.path.append('src')\n",
    "\n",
    "from src.data_utils import *\n",
    "from src.model_utils import load_model\n",
    "import src.alphabet as alph\n",
    "import src.cipher as Cipher\n",
    "import src.cracker as Cracker\n",
    "import random"
   ]
  },
  {
   "cell_type": "code",
   "execution_count": null,
   "metadata": {},
   "outputs": [],
   "source": [
    "# Set parameters\n",
    "data_id = 'bible-test'\n",
    "alphabet = alph.basic_lower()"
   ]
  },
  {
   "cell_type": "code",
   "execution_count": null,
   "metadata": {},
   "outputs": [],
   "source": [
    "# Samples messages\n",
    "n_samples = 5\n",
    "msgs = load_msgs(data_id, alphabet, 0, 0, lower=True)\n",
    "samples = random.sample(msgs, n_samples)"
   ]
  },
  {
   "cell_type": "code",
   "execution_count": null,
   "metadata": {},
   "outputs": [],
   "source": [
    "# Encrypt samples\n",
    "caesar_cipher = Cipher.Caesar(alphabet)\n",
    "encs, correct_keys = caesar_cipher.encrypt_all(samples, order=None, key_rot=1, key_gen_strategy='random')"
   ]
  },
  {
   "cell_type": "code",
   "execution_count": null,
   "metadata": {},
   "outputs": [],
   "source": [
    "# Recover key from encryptions\n",
    "clf = load_model('models/alice_caesar_prop1.cnn', len(alphabet))\n",
    "caesar_cracker = Cracker.Caesar(alphabet, clf)\n",
    "predicted_keys = caesar_cracker.key_search_all(encs)"
   ]
  },
  {
   "cell_type": "code",
   "execution_count": null,
   "metadata": {},
   "outputs": [],
   "source": [
    "# Show results\n",
    "print(f'Correct keys: \\t{correct_keys}')\n",
    "print(f'Predicted keys: {[k.item() for k in predicted_keys]}')"
   ]
  },
  {
   "cell_type": "code",
   "execution_count": null,
   "metadata": {},
   "outputs": [],
   "source": []
  }
 ],
 "metadata": {
  "kernelspec": {
   "display_name": "Python (spring21JodokVieli)",
   "language": "python",
   "name": "spring21jodokvieli"
  },
  "language_info": {
   "codemirror_mode": {
    "name": "ipython",
    "version": 3
   },
   "file_extension": ".py",
   "mimetype": "text/x-python",
   "name": "python",
   "nbconvert_exporter": "python",
   "pygments_lexer": "ipython3",
   "version": "3.8.0"
  }
 },
 "nbformat": 4,
 "nbformat_minor": 5
}
