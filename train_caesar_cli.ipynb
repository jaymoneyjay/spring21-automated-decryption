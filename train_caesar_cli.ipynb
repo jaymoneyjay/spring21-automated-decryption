{
 "cells": [
  {
   "cell_type": "markdown",
   "metadata": {
    "pycharm": {
     "name": "#%% md\n"
    }
   },
   "source": [
    "# Client to train a CharCNN model for the caesar cipher\n",
    "This notebook demonstrates how to train a classifier to predict correct vs incorrect decryptions on the caesar cipher."
   ]
  },
  {
   "cell_type": "code",
   "execution_count": null,
   "metadata": {},
   "outputs": [],
   "source": [
    "import sys\n",
    "sys.path.append('src')\n",
    "\n",
    "import torch\n",
    "from src.models import CharCNN\n",
    "from src.data_utils import gen_dl, load_msgs\n",
    "from src.model_utils import save_model, load_model\n",
    "from src.plot_utils import *\n",
    "import logging\n",
    "import src.alphabet as alph\n",
    "from src.trainer import Trainer\n",
    "from sklearn.metrics import accuracy_score, balanced_accuracy_score\n",
    "from src.functional import *\n",
    "mpl_logger = logging.getLogger('matplotlib') \n",
    "mpl_logger.setLevel(logging.WARNING) \n",
    "import random, copy\n",
    "from collections import Counter"
   ]
  },
  {
   "cell_type": "markdown",
   "metadata": {},
   "source": [
    "# Train on bible data"
   ]
  },
  {
   "cell_type": "code",
   "execution_count": null,
   "metadata": {
    "scrolled": true
   },
   "outputs": [],
   "source": [
    "# Set parameters\n",
    "data_id = 'alice-train'\n",
    "alphabet = alph.basic_lower()\n",
    "alphabet_len = len(alphabet)\n",
    "cipher_proportion = [1, 5, 10]\n",
    "\n",
    "for p in cipher_proportion:\n",
    "    # Generate data\n",
    "    ciphers = {'plain': 1, 'caesar': p}\n",
    "    dl_train, dl_val = gen_dl(data_id, alphabet, 0, 0, ciphers=ciphers,\n",
    "                                     lower=True, key_rot=1)\n",
    "\n",
    "    # Define classweight as inverse of proportion\n",
    "    class_weights = torch.tensor([p, 1.0], dtype=torch.float32)\n",
    "    criterion = torch.nn.CrossEntropyLoss(weight=class_weights)\n",
    "\n",
    "    # Create classifier with specified criterion\n",
    "    clf = CharCNN(alphabet_len, loss=criterion)\n",
    "\n",
    "    # Train classifier until convergence\n",
    "    trainer = Trainer(nb_epochs=100)\n",
    "    loss_train, loss_val = trainer.fit(clf, dl_train, dl_val)\n",
    "\n",
    "    # Evaluate classifier\n",
    "    model_name = f'prop{p}'\n",
    "    plot_loss(loss_train, loss_val, f'Loss for {model_name}')\n",
    "    plot_confusion(trainer.score(clf, dl_val, normed_confusion), f'Confusion matrix for {model_name}')\n",
    "    acc = trainer.score(clf, dl_val, balanced_accuracy_score)\n",
    "\n",
    "    # Save model\n",
    "    save_model(clf, f'models/alice_caesar_{model_name}.cnn')\n",
    "    print(f'### Model {model_name} saved with balanced accuracy of {round(100*acc, 2)}%. ###')\n",
    "    "
   ]
  }
 ],
 "metadata": {
  "kernelspec": {
   "display_name": "Python (spring21JodokVieli)",
   "language": "python",
   "name": "spring21jodokvieli"
  },
  "language_info": {
   "codemirror_mode": {
    "name": "ipython",
    "version": 3
   },
   "file_extension": ".py",
   "mimetype": "text/x-python",
   "name": "python",
   "nbconvert_exporter": "python",
   "pygments_lexer": "ipython3",
   "version": "3.8.0"
  }
 },
 "nbformat": 4,
 "nbformat_minor": 1
}
