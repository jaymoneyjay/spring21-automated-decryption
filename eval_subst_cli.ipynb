{
 "cells": [
  {
   "cell_type": "markdown",
   "metadata": {},
   "source": [
    "# Evaluate classifier and key recovery\n",
    "This notebook evaluates the performance of classifier and key search algorithm for messages encrypted under the substitution cipher."
   ]
  },
  {
   "cell_type": "code",
   "execution_count": null,
   "metadata": {},
   "outputs": [],
   "source": [
    "import sys\n",
    "sys.path.append('src')\n",
    "\n",
    "from src.eval_utils import *\n",
    "from src.data_utils import *\n",
    "from src.functional import *\n",
    "import src.alphabet as alph\n",
    "import src.cipher as Cipher\n",
    "import src.cracker as Cracker\n",
    "import seaborn as sns\n",
    "import random, copy\n",
    "import numpy as np"
   ]
  },
  {
   "cell_type": "code",
   "execution_count": null,
   "metadata": {},
   "outputs": [],
   "source": [
    "# Set parameters\n",
    "data_id = 'bible-test'\n",
    "alphabet = alph.basic_lower()\n",
    "cipher = Cipher.Substitution(alphabet)"
   ]
  },
  {
   "cell_type": "code",
   "execution_count": null,
   "metadata": {},
   "outputs": [],
   "source": [
    "# Samples messages\n",
    "n_samples = 50\n",
    "msgs = load_msgs(data_id, alphabet, 0, 0, lower=True)\n",
    "samples = random.sample(msgs, n_samples)\n",
    "order = get_char_order(msgs, alphabet)"
   ]
  },
  {
   "cell_type": "code",
   "execution_count": null,
   "metadata": {},
   "outputs": [],
   "source": [
    "# Encrypt samples\n",
    "subst_cipher = Cipher.Substitution(alphabet)\n",
    "encs, keys = subst_cipher.encrypt_all(samples, order=order, key_rot=1, key_gen_strategy='random')"
   ]
  },
  {
   "cell_type": "code",
   "execution_count": null,
   "metadata": {},
   "outputs": [],
   "source": [
    "# Initialize cracker with partial decryption classifiers\n",
    "partial_lengths = list(range(2, 27, 2))\n",
    "\n",
    "crackers = {}\n",
    "models_dict = {}\n",
    "for l in partial_lengths:\n",
    "    model_dict = {l: load_model(f'models/bible_partial{l}_prop1.cnn', len(alphabet))}\n",
    "    crackers[l] = Cracker.Substitution(alphabet, model_dict)\n",
    "\n",
    "# Initialize cracker with partial decryption classifiers on low distance data\n",
    "crackers_lowdist = {}\n",
    "models_dict = {}\n",
    "for l in partial_lengths:\n",
    "    model_dict = {l: load_model(f'models/bible_partial{l}_prop1_lowdist_shuffle6.cnn', len(alphabet))}\n",
    "    crackers_lowdist[l] = Cracker.Substitution(alphabet, model_dict)"
   ]
  },
  {
   "cell_type": "code",
   "execution_count": null,
   "metadata": {
    "scrolled": true
   },
   "outputs": [],
   "source": [
    "# Computer ranks of correct decryption across different samples\n",
    "all_ranks = []\n",
    "for enc, key in zip(encs, keys):\n",
    "    ranks = get_rank_correct(crackers, cipher, enc, key, order)\n",
    "    all_ranks.append(ranks)\n",
    "\n",
    "all_ranks_lowdist = []\n",
    "for enc, key in zip(encs, keys):\n",
    "    ranks = get_rank_correct(crackers_lowdist, cipher, enc, key, order)\n",
    "    all_ranks_lowdist.append(ranks)"
   ]
  },
  {
   "cell_type": "code",
   "execution_count": null,
   "metadata": {},
   "outputs": [],
   "source": [
    "# Plot avg ranks of correct decryptions\n",
    "fid, axes = plt.subplots(1, 2, figsize=(10, 5))\n",
    "axes = axes.flatten()\n",
    "\n",
    "avg_ranks = np.mean(all_ranks, axis=0).reshape(-1, )\n",
    "sns.barplot(x=list(range(2, 27, 2)), y=avg_ranks, ax=axes[0])\n",
    "axes[0].set_title('Train on: normal data', fontsize=20)\n",
    "\n",
    "avg_ranks_lowdist = np.mean(all_ranks_lowdist, axis=0).reshape(-1, )\n",
    "sns.barplot(x=list(range(2, 27, 2)), y=avg_ranks_lowdist, ax=axes[1])\n",
    "axes[1].set_title('Train on: low distance data', fontsize=20)\n",
    "\n",
    "for i in range(2):\n",
    "    axes[i].set_xlabel('Size of partial decryption')\n",
    "    axes[i].set_ylabel('Avg rank')\n",
    "    axes[i].set_ylim(0, 160)"
   ]
  },
  {
   "cell_type": "code",
   "execution_count": null,
   "metadata": {},
   "outputs": [],
   "source": []
  }
 ],
 "metadata": {
  "kernelspec": {
   "display_name": "Python (spring21JodokVieli)",
   "language": "python",
   "name": "spring21jodokvieli"
  },
  "language_info": {
   "codemirror_mode": {
    "name": "ipython",
    "version": 3
   },
   "file_extension": ".py",
   "mimetype": "text/x-python",
   "name": "python",
   "nbconvert_exporter": "python",
   "pygments_lexer": "ipython3",
   "version": "3.8.0"
  }
 },
 "nbformat": 4,
 "nbformat_minor": 5
}
