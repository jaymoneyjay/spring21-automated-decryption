{
 "cells": [
  {
   "cell_type": "markdown",
   "metadata": {},
   "source": [
    "# Break substitution cipher\n",
    "This notebook demonstrates how to recover keys from messages encrypted under the substitution cipher."
   ]
  },
  {
   "cell_type": "code",
   "execution_count": null,
   "metadata": {},
   "outputs": [],
   "source": [
    "import sys\n",
    "sys.path.append('src')\n",
    "\n",
    "from src.eval_utils import *\n",
    "from src.data_utils import *\n",
    "from src.functional import *\n",
    "import src.alphabet as alph\n",
    "import src.cipher as Cipher\n",
    "import src.cracker as Cracker\n",
    "import seaborn as sns\n",
    "import random, copy"
   ]
  },
  {
   "cell_type": "code",
   "execution_count": null,
   "metadata": {},
   "outputs": [],
   "source": [
    "# Set parameters\n",
    "data_id = 'bible-test'\n",
    "alphabet = alph.basic_lower()\n",
    "cipher = Cipher.Substitution(alphabet)"
   ]
  },
  {
   "cell_type": "code",
   "execution_count": null,
   "metadata": {},
   "outputs": [],
   "source": [
    "# Samples messages\n",
    "n_samples = 5\n",
    "msgs = load_msgs(data_id, alphabet, 0, 0, lower=True)\n",
    "samples = random.sample(msgs, n_samples)\n",
    "order = get_char_order(msgs, alphabet)"
   ]
  },
  {
   "cell_type": "code",
   "execution_count": null,
   "metadata": {},
   "outputs": [],
   "source": [
    "# Encrypt samples\n",
    "subst_cipher = Cipher.Substitution(alphabet)\n",
    "encs, correct_keys = subst_cipher.encrypt_all(samples, order=order, key_rot=1, key_gen_strategy='random')"
   ]
  },
  {
   "cell_type": "code",
   "execution_count": null,
   "metadata": {},
   "outputs": [],
   "source": [
    "# Initialize cracker with partial decryption classifiers\n",
    "partial_lengths = list(range(2, 27, 2))\n",
    "\n",
    "models_dict = {}\n",
    "for l in partial_lengths:\n",
    "    model_dict = {l: load_model(f'models/bible_partial{l}_prop{1}_lowdist_shuffle6.cnn', len(alphabet))}\n",
    "\n",
    "cracker = Cracker.Substitution(alphabet, model_dict)"
   ]
  },
  {
   "cell_type": "code",
   "execution_count": null,
   "metadata": {},
   "outputs": [],
   "source": [
    "predicted_keys = []\n",
    "n_top=10\n",
    "for enc in encs:\n",
    "    predicted_keys.append(cracker.key_search(enc, order, n_top=n_top))"
   ]
  },
  {
   "cell_type": "code",
   "execution_count": null,
   "metadata": {},
   "outputs": [],
   "source": [
    "# Show results\n",
    "for i, (key, pred) in enumerate(zip(correct_keys, predicted_keys)):\n",
    "    print(f'### Encryption {i+1}###')\n",
    "    print(f'Correct key: \\t{key}')\n",
    "    print(f'Top {n_top} predicted keys: \\n{[pred.Key]}')\n",
    "    print(f'Correct key in top {n_top}: {key in pred.Key.values}')\n",
    "    print()"
   ]
  },
  {
   "cell_type": "code",
   "execution_count": null,
   "metadata": {},
   "outputs": [],
   "source": []
  }
 ],
 "metadata": {
  "kernelspec": {
   "display_name": "Python (spring21JodokVieli)",
   "language": "python",
   "name": "spring21jodokvieli"
  },
  "language_info": {
   "codemirror_mode": {
    "name": "ipython",
    "version": 3
   },
   "file_extension": ".py",
   "mimetype": "text/x-python",
   "name": "python",
   "nbconvert_exporter": "python",
   "pygments_lexer": "ipython3",
   "version": "3.8.0"
  }
 },
 "nbformat": 4,
 "nbformat_minor": 5
}
