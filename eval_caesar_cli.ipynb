{
 "cells": [
  {
   "cell_type": "markdown",
   "metadata": {},
   "source": [
    "# Evaluate classifier and key recovery\n",
    "This notebook evaluates the performance of classifier and key search algorithm for messages encrypted under the caesar cipher."
   ]
  },
  {
   "cell_type": "code",
   "execution_count": null,
   "metadata": {},
   "outputs": [],
   "source": [
    "import sys\n",
    "sys.path.append('src')\n",
    "\n",
    "from src.eval_utils import *\n",
    "from src.data_utils import *\n",
    "import src.alphabet as alph\n",
    "import src.cipher as Cipher\n",
    "import src.cracker as Cracker\n",
    "import seaborn as sns\n",
    "import random\n",
    "from sklearn.metrics import balanced_accuracy_score"
   ]
  },
  {
   "cell_type": "code",
   "execution_count": null,
   "metadata": {},
   "outputs": [],
   "source": [
    "# Set parameters\n",
    "data_id = 'alice-test'\n",
    "alphabet = alph.basic_lower()\n",
    "alphabet_len = len(alphabet)\n",
    "cipher_proportions = [1, 5, 10]\n",
    "cipher_proportions = [1]\n",
    "ciphers = {'plain': 1, 'caesar': 1}\n",
    "max_length = 50"
   ]
  },
  {
   "cell_type": "markdown",
   "metadata": {},
   "source": [
    "## Evaluate model over complete message space"
   ]
  },
  {
   "cell_type": "code",
   "execution_count": null,
   "metadata": {},
   "outputs": [],
   "source": [
    "# Evaluate model accuracy plain vs cipher\n",
    "dl_test, _ = gen_dl(data_id, alphabet, 10, 100, ciphers=ciphers, key_rot=1, lower=True)\n",
    "trainer = Trainer(nb_epochs=1)\n",
    "model_path = f'models/alice_caesar_prop1.cnn'\n",
    "model = load_model(model_path, alphabet_len)\n",
    "score = trainer.score(model, dl_test, balanced_accuracy_score)\n",
    "print(f'Model has balanced accuracy of {score}')"
   ]
  },
  {
   "cell_type": "code",
   "execution_count": null,
   "metadata": {},
   "outputs": [],
   "source": [
    "# Evaluate accuracy of key recovery\n",
    "\n",
    "# Generate samples\n",
    "n_samples = 500\n",
    "msgs = load_msgs(data_id, alphabet, 10, 100, lower=True)\n",
    "order = get_char_order(msgs, alphabet)\n",
    "samples = random.sample(msgs, n_samples)\n",
    "\n",
    "# Generate caesar cracker\n",
    "cipher = Cipher.Caesar(alphabet)\n",
    "cracker = Cracker.Caesar(alphabet, model)\n",
    "\n",
    "# Evaluate cracker\n",
    "acc = evaluate_cracker(model_path, samples, order, cipher, cracker, lower=True, balanced=True)\n",
    "print(f'Model has recovered {acc*100}% of keys')"
   ]
  },
  {
   "cell_type": "markdown",
   "metadata": {},
   "source": [
    "## Evaluate model over different message lengths"
   ]
  },
  {
   "cell_type": "code",
   "execution_count": null,
   "metadata": {
    "scrolled": true
   },
   "outputs": [],
   "source": [
    "# Evaluate accuracy of key recovery\n",
    "accuracies = []\n",
    "xlabels = []\n",
    "for p in cipher_proportions:\n",
    "    model_path = f'models/alice_caesar_prop{p}.cnn'\n",
    "    label = f'prop{p}'\n",
    "    acc = evaluate_cracker_across_bins(model_path, data_id, alphabet, max_length=max_length, lower=True, balanced=True)\n",
    "    accuracies.append(acc)\n",
    "    xlabels.append(label)"
   ]
  },
  {
   "cell_type": "code",
   "execution_count": null,
   "metadata": {},
   "outputs": [],
   "source": [
    "# Plot results\n",
    "compare_accuracies(accuracies, xlabels, 'Accuracy of key recovery on bible data', max_length=max_length, notes='')"
   ]
  }
 ],
 "metadata": {
  "kernelspec": {
   "display_name": "Python (spring21JodokVieli)",
   "language": "python",
   "name": "spring21jodokvieli"
  },
  "language_info": {
   "codemirror_mode": {
    "name": "ipython",
    "version": 3
   },
   "file_extension": ".py",
   "mimetype": "text/x-python",
   "name": "python",
   "nbconvert_exporter": "python",
   "pygments_lexer": "ipython3",
   "version": "3.8.0"
  }
 },
 "nbformat": 4,
 "nbformat_minor": 5
}
